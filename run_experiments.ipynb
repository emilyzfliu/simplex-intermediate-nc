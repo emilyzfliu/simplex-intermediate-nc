{
  "cells": [
    {
      "cell_type": "code",
      "execution_count": null,
      "metadata": {
        "id": "eRfiDNPRllbi"
      },
      "outputs": [],
      "source": [
        "import torch\n",
        "import torchvision\n",
        "import torchvision.transforms as transforms"
      ]
    },
    {
      "cell_type": "markdown",
      "metadata": {
        "id": "-J7K2hZVllbj"
      },
      "source": [
        "# Datasets"
      ]
    },
    {
      "cell_type": "code",
      "execution_count": null,
      "metadata": {
        "id": "DmwbIAg6llbl"
      },
      "outputs": [],
      "source": [
        "transform = transforms.Compose(\n",
        "    [transforms.ToTensor(),\n",
        "     transforms.Normalize((0.5, 0.5, 0.5), (0.5, 0.5, 0.5))])\n",
        "batch_size = 4"
      ]
    },
    {
      "cell_type": "markdown",
      "metadata": {
        "id": "-OsD96Uwllbl"
      },
      "source": [
        "#### CIFAR-10"
      ]
    },
    {
      "cell_type": "code",
      "execution_count": null,
      "metadata": {
        "id": "SZQyQWABllbl",
        "outputId": "493778ac-fbba-4fe8-ff08-2b78074c82b3"
      },
      "outputs": [
        {
          "name": "stdout",
          "output_type": "stream",
          "text": [
            "Files already downloaded and verified\n",
            "Files already downloaded and verified\n"
          ]
        }
      ],
      "source": [
        "trainset_10 = torchvision.datasets.CIFAR10(root='./data', train=True,\n",
        "                                        download=True, transform=transform)\n",
        "trainloader_10 = torch.utils.data.DataLoader(trainset_10, batch_size=batch_size,\n",
        "                                          shuffle=True, num_workers=2)\n",
        "\n",
        "valset_10 = torchvision.datasets.CIFAR10(root='./data', train=False,\n",
        "                                       download=True, transform=transform)\n",
        "valloader_10 = torch.utils.data.DataLoader(testset_10, batch_size=batch_size,\n",
        "                                         shuffle=False, num_workers=2)\n",
        "\n",
        "loaders = {\n",
        "    'train': trainloader_10,\n",
        "    'val': valloader_10\n",
        "}"
      ]
    },
    {
      "cell_type": "markdown",
      "metadata": {
        "id": "6byZ10o-llbn"
      },
      "source": [
        "# Models"
      ]
    },
    {
      "cell_type": "markdown",
      "metadata": {
        "id": "vu0xYQ3Yllbn"
      },
      "source": [
        "MLP-L-H"
      ]
    },
    {
      "cell_type": "code",
      "execution_count": null,
      "metadata": {
        "id": "_zsX9XUzllbo"
      },
      "outputs": [],
      "source": [
        "class MLP(nn.Module):\n",
        "  def __init__(self, L, H, fixdim, simplex):\n",
        "    super().__init__()\n",
        "    \n",
        "    self.relu = nn.ReLU()\n",
        "\n",
        "    layers = [nn.Linear(3072, H)]\n",
        "    bns = [nn.BatchNorm1d(H)]\n",
        "\n",
        "    num_classes = 10\n",
        "\n",
        "    for i in range(L-2):\n",
        "      layers.append(nn.Linear(H, H))\n",
        "      bns.append(nn.BatchNorm1d(H))\n",
        "        \n",
        "    if fixdim:\n",
        "      layers.append(nn.Linear(H, num_classes))\n",
        "      self.fc_out= nn.Linear(num_classes, num_classes)\n",
        "    else:\n",
        "      layers.append(nn.Linear(H, H))\n",
        "      self.fc_out = nn.Linear(H, num_classes)\n",
        "    \n",
        "    bns.append(nn.BatchNorm1d(H))\n",
        "\n",
        "    self.fcs = nn.ModuleList(layers)\n",
        "    self.bns = nn.ModuleList(bns)\n",
        "\n",
        "    if simplex:\n",
        "      weight = torch.sqrt(torch.tensor(num_classes/(num_classes-1)))*(torch.eye(num_classes)-(1/num_classes)*torch.ones((num_classes, num_classes)))\n",
        "      weight /= torch.sqrt((1/num_classes*torch.norm(weight, 'fro')**2))\n",
        "      if fixdim:\n",
        "        self.fc_out.weight = nn.Parameter(weight)\n",
        "      else:\n",
        "        self.fc_out.weight = nn.Parameter(torch.mm(weight, torch.eye(num_classes, H)))\n",
        "      self.fc_out.weight.requires_grad_(False)\n",
        "    \n",
        "  def forward(self, X):\n",
        "    for layer, bn in zip(self.fcs, self.bns):\n",
        "        h = self.relu(bn(layer(h)))\n",
        "    return self.fc_out(h)"
      ]
    },
    {
      "cell_type": "markdown",
      "metadata": {
        "id": "tOTAL-s6llbo"
      },
      "source": [
        "CONV-L-H"
      ]
    },
    {
      "cell_type": "code",
      "execution_count": null,
      "metadata": {
        "id": "u19V9Ehillbo"
      },
      "outputs": [],
      "source": [
        "class CONV(nn.Module):\n",
        "  def __init__(self, L, H, fixdim, simplex):\n",
        "    super().__init__()\n",
        "    \n",
        "    self.relu = nn.ReLU()\n",
        "\n",
        "    starting_layers =  [nn.Conv2d(1, H, kernel_size=2, stride=2), nn.Conv2d(1, H, kernel_size=2, stride=2)]\n",
        "    starting_bns = [nn.BatchNorm2d(H), nn.BatchNorm2d(H)]\n",
        "\n",
        "    self.conv_in = nn.ModuleList(starting_layers)\n",
        "    self.bn_in = nn.ModuleList(starting_bns)\n",
        "\n",
        "    layers = []\n",
        "    bns = []\n",
        "\n",
        "    num_classes = 10\n",
        "\n",
        "    for i in range(L):\n",
        "      layers.append(nn.Conv2d(H, H, kernel_size=3, stride=1, padding=1))\n",
        "      bns.append(nn.BatchNorm2d(H))\n",
        "        \n",
        "    if fixdim:\n",
        "      layers.append(nn.Linear(49*H, num_classes))\n",
        "      bns.append(nn.BatchNorm1d(H))\n",
        "      self.fc_out= nn.Linear(num_classes, num_classes)\n",
        "    else:\n",
        "      self.fc_out = nn.Linear(49*H, num_classes)\n",
        "\n",
        "    self.convs = nn.ModuleList(layers)\n",
        "    self.bns = nn.ModuleList(bns)\n",
        "\n",
        "    if simplex:\n",
        "      weight = torch.sqrt(torch.tensor(num_classes/(num_classes-1)))*(torch.eye(num_classes)-(1/num_classes)*torch.ones((num_classes, num_classes)))\n",
        "      weight /= torch.sqrt((1/num_classes*torch.norm(weight, 'fro')**2))\n",
        "      if fixdim:\n",
        "        self.fc_out.weight = nn.Parameter(weight)\n",
        "      else:\n",
        "        self.fc_out.weight = nn.Parameter(torch.mm(weight, torch.eye(num_classes, H)))\n",
        "      self.fc_out.weight.requires_grad_(False)\n",
        "    \n",
        "    def forward(self, X):\n",
        "      h = X\n",
        "      for layer, bn in zip(self.conv_in, self.bn_in):\n",
        "        h = bn(layer(h))\n",
        "      h = self.relu(h)\n",
        "      for layer, bn in zip(self.convs, self.bns):\n",
        "        h = self.relu(bn(layer(h)))\n",
        "      return self.fc_out(h)"
      ]
    },
    {
      "cell_type": "markdown",
      "source": [
        "# Evaluations"
      ],
      "metadata": {
        "id": "c85Wj-a5IL-_"
      }
    },
    {
      "cell_type": "markdown",
      "source": [
        "eval utils"
      ],
      "metadata": {
        "id": "B5-bECgyniaZ"
      }
    },
    {
      "cell_type": "code",
      "source": [
        "def compute_accuracy(output, target):\n",
        "  batch_size = target.size(0)\n",
        "\n",
        "  _, pred = output.topk(1, 1, True, True)\n",
        "  pred = pred.t()\n",
        "  correct = pred.eq(target.view(1, -1).expand_as(pred))\n",
        "\n",
        "  correct_k = correct[:k].reshape(-1).float().sum(0)\n",
        "  return return correct_k.mul_(100.0 / batch_size)\n",
        "\n",
        "def compute_info(args, model, fc_features, dataloader, isTrain=True):\n",
        "  mu_G = 0\n",
        "  mu_c_dict = dict()\n",
        "  top1 = AverageMeter()\n",
        "  top5 = AverageMeter()\n",
        "  for batch_idx, (inputs, targets) in enumerate(dataloader):\n",
        "    inputs, targets = inputs.to(args.device), targets.to(args.device)\n",
        "    with torch.no_grad():\n",
        "      outputs = model(inputs)\n",
        "\n",
        "    features = fc_features.outputs[0][0]\n",
        "    fc_features.clear()\n",
        "\n",
        "    mu_G += torch.sum(features, dim=0)\n",
        "\n",
        "    for b in range(len(targets)):\n",
        "      y = targets[b].item()\n",
        "      if y not in mu_c_dict:\n",
        "        mu_c_dict[y] = features[b, :]\n",
        "      else:\n",
        "        mu_c_dict[y] += features[b, :]\n",
        "\n",
        "    prec1 = compute_accuracy(outputs[0].data, targets.data)\n",
        "    top1.update(prec1.item(), inputs.size(0))\n",
        "\n",
        "    if isTrain:\n",
        "      mu_G /= sum(CIFAR10_TRAIN_SAMPLES)\n",
        "      for i in range(len(CIFAR10_TRAIN_SAMPLES)):\n",
        "        mu_c_dict[i] /= CIFAR10_TRAIN_SAMPLES[i]\n",
        "    else:\n",
        "      mu_G /= sum(CIFAR10_TEST_SAMPLES)\n",
        "      for i in range(len(CIFAR10_TEST_SAMPLES)):\n",
        "        mu_c_dict[i] /= CIFAR10_TEST_SAMPLES[i]\n",
        "\n",
        "    return mu_G, mu_c_dict, top1.avg\n",
        "\n",
        "def compute_Sigma_W(args, model, fc_features, mu_c_dict, dataloader, isTrain=True):\n",
        "  Sigma_W = 0\n",
        "  for batch_idx, (inputs, targets) in enumerate(dataloader):\n",
        "\n",
        "    inputs, targets = inputs.to(args.device), targets.to(args.device)\n",
        "\n",
        "    with torch.no_grad():\n",
        "      outputs = model(inputs)\n",
        "\n",
        "    features = fc_features.outputs[0][0]\n",
        "    fc_features.clear()\n",
        "\n",
        "    for b in range(len(targets)):\n",
        "      y = targets[b].item()\n",
        "      Sigma_W += (features[b, :] - mu_c_dict[y]).unsqueeze(1) @ (features[b, :] - mu_c_dict[y]).unsqueeze(0)\n",
        "\n",
        "  if isTrain:\n",
        "    Sigma_W /= sum(CIFAR10_TRAIN_SAMPLES)\n",
        "  else:\n",
        "    Sigma_W /= sum(CIFAR10_TEST_SAMPLES)\n",
        "\n",
        "  return Sigma_W.cpu().numpy()\n",
        "\n",
        "def compute_Sigma_B(mu_c_dict, mu_G):\n",
        "  Sigma_B = 0\n",
        "  K = len(mu_c_dict)\n",
        "  for i in range(K):\n",
        "    Sigma_B += (mu_c_dict[i] - mu_G).unsqueeze(1) @ (mu_c_dict[i] - mu_G).unsqueeze(0)\n",
        "\n",
        "  Sigma_B /= K\n",
        "\n",
        "  return Sigma_B.cpu().numpy()\n",
        "\n",
        "def compute_ETF(W):\n",
        "  K = W.shape[0]\n",
        "  WWT = torch.mm(W, W.T)\n",
        "  WWT /= torch.norm(WWT, p='fro')\n",
        "\n",
        "  sub = (torch.eye(K) - 1 / K * torch.ones((K, K))).cuda() / pow(K - 1, 0.5)\n",
        "  ETF_metric = torch.norm(WWT - sub, p='fro')\n",
        "  return ETF_metric.detach().cpu().numpy().item()\n",
        "\n",
        "def compute_W_H_relation(W, mu_c_dict, mu_G):\n",
        "  K = len(mu_c_dict)\n",
        "  H = torch.empty(mu_c_dict[0].shape[0], K)\n",
        "  for i in range(K):\n",
        "    H[:, i] = mu_c_dict[i] - mu_G\n",
        "\n",
        "  WH = torch.mm(W, H.cuda())\n",
        "  WH /= torch.norm(WH, p='fro')\n",
        "  sub = 1 / pow(K - 1, 0.5) * (torch.eye(K) - 1 / K * torch.ones((K, K))).cuda()\n",
        "\n",
        "  res = torch.norm(WH - sub, p='fro')\n",
        "  return res.detach().cpu().numpy().item(), H\n",
        "\n",
        "def compute_Wh_b_relation(W, mu_G, b):\n",
        "  Wh = torch.mv(W, mu_G.cuda())\n",
        "  res_b = torch.norm(Wh + b, p='fro')\n",
        "  return res_b.detach().cpu().numpy().item()"
      ],
      "metadata": {
        "id": "U_opUFHynjtI"
      },
      "execution_count": null,
      "outputs": []
    },
    {
      "cell_type": "markdown",
      "source": [
        "Evaluations"
      ],
      "metadata": {
        "id": "55H_bnggnkdD"
      }
    },
    {
      "cell_type": "code",
      "source": [
        "# https://pypi.org/project/torch-intermediate-layer-getter/\n",
        "\n",
        "def NC1():\n",
        "  return np.trace\n",
        "\n",
        "def NC2():\n",
        "  pass\n",
        "\n",
        "def NC3():\n",
        "  pass\n",
        "\n",
        "def NC4():\n",
        "  pass\n",
        "\n",
        "def accuracy(output, target):\n",
        "  # NCC accuracy\n",
        "  pass\n",
        "\n",
        "def get_evaluations(model, loader, n_layers):\n",
        "  cols = []\n",
        "  vals = []\n",
        "  for layer in n_layers:\n",
        "    cols.extend([f'acc_{layer}'])\n",
        "\n",
        "\n"
      ],
      "metadata": {
        "id": "R_3L_O4gILo3"
      },
      "execution_count": null,
      "outputs": []
    },
    {
      "cell_type": "markdown",
      "source": [
        "# Training code"
      ],
      "metadata": {
        "id": "BVbR4WCD1ook"
      }
    },
    {
      "cell_type": "code",
      "execution_count": null,
      "metadata": {
        "id": "pFJ3DpQTllbp"
      },
      "outputs": [],
      "source": [
        "def train(model, device, optimizer, criterion, dataloaders, learning_rate, num_epochs, savedir):\n",
        "  # Train baseline\n",
        "  best_loss = np.inf\n",
        "  early_stop_count = 0\n",
        "\n",
        "  losses = []\n",
        "\n",
        "  for epoch in range(num_epochs):\n",
        "      for phase in ['train', 'val']:\n",
        "          if phase == 'train':\n",
        "            model.train()\n",
        "          else:\n",
        "            model.eval()\n",
        "\n",
        "          running_loss = 0.0\n",
        "          num_preds = 0\n",
        "\n",
        "          bar = tqdm(dataloaders[phase], desc='Epoch {} {}'.format(epoch, phase).ljust(20))\n",
        "          for i, batch in enumerate(bar):\n",
        "            X, y = batch\n",
        "            X, y = X.to(device), y.to(device)\n",
        "\n",
        "            optimizer.zero_grad()\n",
        "\n",
        "            with torch.set_grad_enabled(phase == 'train'):\n",
        "              preds = model(X)\n",
        "              loss = criterion(preds, y)\n",
        "              if phase == 'train':\n",
        "                loss.backward()\n",
        "                optimizer.step()\n",
        "\n",
        "          running_loss += loss.item()\n",
        "          num_preds += 1\n",
        "          if i % 10 == 0:\n",
        "            bar.set_postfix(loss='{:.2f}'.format(running_loss / num_preds))\n",
        "\n",
        "          epoch_loss = running_loss / num_preds\n",
        "          # deep copy the model\n",
        "          if phase == 'val':\n",
        "            if epoch_loss < best_loss:\n",
        "                best_loss = epoch_loss\n",
        "                best_model_wts = copy.deepcopy(baseline_net.state_dict())\n",
        "          cols, vals = get_evaluations(blah)\n",
        "          df = pd.DataFrame(columns=['epoch', 'phase']+cols)\n",
        "          df.loc[0] = [epoch, phase] + vals\n",
        "          losses.append(df)\n",
        "\n",
        "    model.load_state_dict(best_model_wts)\n",
        "    model.eval()\n",
        "\n",
        "    # Save model weights\n",
        "    Path(os.path.join(savedir, 'model.pth')).parent.mkdir(parents=True, exist_ok=True)\n",
        "    torch.save(baseline_net.state_dict(), os.path.join(savedir, 'model.pth'))\n",
        "\n",
        "\n",
        "    losses = pd.concat(losses, axis=0, ignore_index=True)\n",
        "    losses.to_csv(os.path.join(savedir, 'losses.csv'), index=False)\n",
        "\n",
        "    return model"
      ]
    },
    {
      "cell_type": "markdown",
      "source": [],
      "metadata": {
        "id": "lJUpod_-Wo6I"
      }
    },
    {
      "cell_type": "code",
      "source": [],
      "metadata": {
        "id": "G0YBeFTVWoi6"
      },
      "execution_count": null,
      "outputs": []
    }
  ],
  "metadata": {
    "kernelspec": {
      "display_name": "Python 3.9.7 ('base')",
      "language": "python",
      "name": "python3"
    },
    "language_info": {
      "codemirror_mode": {
        "name": "ipython",
        "version": 3
      },
      "file_extension": ".py",
      "mimetype": "text/x-python",
      "name": "python",
      "nbconvert_exporter": "python",
      "pygments_lexer": "ipython3",
      "version": "3.9.7"
    },
    "orig_nbformat": 4,
    "vscode": {
      "interpreter": {
        "hash": "846d7c97c30a6049968d1d1a6818eafdf2eb941006d2719374ee3821acbef096"
      }
    },
    "colab": {
      "provenance": []
    }
  },
  "nbformat": 4,
  "nbformat_minor": 0
}