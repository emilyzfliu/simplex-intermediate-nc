{
  "cells": [
    {
      "cell_type": "code",
      "execution_count": 6,
      "metadata": {
        "id": "eRfiDNPRllbi"
      },
      "outputs": [],
      "source": [
        "import torch\n",
        "import torchvision\n",
        "import torchvision.transforms as transforms\n",
        "from torch import nn\n",
        "\n",
        "import torchvision.datasets as datasets"
      ]
    },
    {
      "cell_type": "markdown",
      "metadata": {
        "id": "-J7K2hZVllbj"
      },
      "source": [
        "# Datasets"
      ]
    },
    {
      "cell_type": "code",
      "execution_count": 2,
      "metadata": {
        "id": "DmwbIAg6llbl"
      },
      "outputs": [],
      "source": [
        "transform = transforms.Compose(\n",
        "    [transforms.ToTensor(),\n",
        "     transforms.RandomCrop(32),\n",
        "     transforms.RandomHorizontalFlip(p=0.5),\n",
        "     transforms.RandomRotation(180),\n",
        "     transforms.Normalize((0.5, 0.5, 0.5), (0.5, 0.5, 0.5))])\n",
        "batch_size = 128"
      ]
    },
    {
      "cell_type": "code",
      "source": [
        "class CIFAR10_corrupted(datasets.CIFAR10):\n",
        "  def __init__(self, corrupt_prob=0.0, num_classes=10, **kwargs):\n",
        "    super(CIFAR10_corrupted, self).__init__(**kwargs)\n",
        "    self.n_classes = num_classes\n",
        "    if corrupt_prob > 0:\n",
        "      self.corrupt_labels(corrupt_prob)\n",
        "\n",
        "  def corrupt_labels(self, corrupt_prob):\n",
        "    labels = np.array(self.targets)\n",
        "    np.random.seed(12345)\n",
        "    mask = np.random.rand(len(labels)) <= corrupt_prob\n",
        "    rnd_labels = np.random.choice(self.n_classes, mask.sum())\n",
        "    labels[mask] = rnd_labels\n",
        "    # we need to explicitly cast the labels from npy.int64 to\n",
        "    # builtin int type, otherwise pytorch will fail...\n",
        "    labels = [int(x) for x in labels]\n",
        "\n",
        "    self.targets = labels"
      ],
      "metadata": {
        "id": "usFkC80A-T14"
      },
      "execution_count": 9,
      "outputs": []
    },
    {
      "cell_type": "markdown",
      "metadata": {
        "id": "-OsD96Uwllbl"
      },
      "source": [
        "#### CIFAR-10"
      ]
    },
    {
      "cell_type": "code",
      "execution_count": 10,
      "metadata": {
        "id": "SZQyQWABllbl",
        "outputId": "4c598961-d054-48d7-cb36-ac1b42fa2ac5",
        "colab": {
          "base_uri": "https://localhost:8080/",
          "height": 103,
          "referenced_widgets": [
            "414b9a43152044948f650cc2b371c7e6",
            "d5f4a607d6b44b6d8bc5aa4e66f37659",
            "efc621bcb5524359bbc8f6403cdede21",
            "97fb784b50c9463eb532352fe1247944",
            "7b8afc3e72d64355985d52882ea9b248",
            "f0a167e433474fc8a3f953065ff65a87",
            "cd689cc190734c29ab87bcc7668cf276",
            "40b3be39dac743ad996c64db23de73c4",
            "e36e24dd12ed470d8f925dd6981195cd",
            "8813e771cb554040b7bcb86c09936c05",
            "4e55aafd27f44f57a9d35eb1d2566748"
          ]
        }
      },
      "outputs": [
        {
          "output_type": "stream",
          "name": "stdout",
          "text": [
            "Downloading https://www.cs.toronto.edu/~kriz/cifar-10-python.tar.gz to ./data/cifar-10-python.tar.gz\n"
          ]
        },
        {
          "output_type": "display_data",
          "data": {
            "text/plain": [
              "  0%|          | 0/170498071 [00:00<?, ?it/s]"
            ],
            "application/vnd.jupyter.widget-view+json": {
              "version_major": 2,
              "version_minor": 0,
              "model_id": "414b9a43152044948f650cc2b371c7e6"
            }
          },
          "metadata": {}
        },
        {
          "output_type": "stream",
          "name": "stdout",
          "text": [
            "Extracting ./data/cifar-10-python.tar.gz to ./data\n",
            "Files already downloaded and verified\n"
          ]
        }
      ],
      "source": [
        "trainset_10 = CIFAR10_corrupted(root='./data', train=True,\n",
        "                                        download=True, transform=transform)\n",
        "trainloader_10 = torch.utils.data.DataLoader(trainset_10, batch_size=batch_size,\n",
        "                                          shuffle=True, num_workers=2)\n",
        "\n",
        "valset_10 = CIFAR10_corrupted(root='./data', train=False,\n",
        "                                       download=True, transform=transform)\n",
        "valloader_10 = torch.utils.data.DataLoader(valset_10, batch_size=batch_size,\n",
        "                                         shuffle=False, num_workers=2)"
      ]
    },
    {
      "cell_type": "markdown",
      "metadata": {
        "id": "6byZ10o-llbn"
      },
      "source": [
        "# Models"
      ]
    },
    {
      "cell_type": "markdown",
      "metadata": {
        "id": "vu0xYQ3Yllbn"
      },
      "source": [
        "MLP-L-H"
      ]
    },
    {
      "cell_type": "code",
      "execution_count": 11,
      "metadata": {
        "id": "_zsX9XUzllbo"
      },
      "outputs": [],
      "source": [
        "class MLP(nn.Module):\n",
        "  def __init__(self, L, H, fixdim, simplex):\n",
        "    super().__init__()\n",
        "    \n",
        "    self.relu = nn.ReLU()\n",
        "\n",
        "    layers = [nn.Linear(3072, H)]\n",
        "    bns = [nn.BatchNorm1d(H)]\n",
        "\n",
        "    num_classes = 10\n",
        "\n",
        "    for i in range(L-2):\n",
        "      layers.append(nn.Linear(H, H))\n",
        "      bns.append(nn.BatchNorm1d(H))\n",
        "        \n",
        "    if fixdim:\n",
        "      layers.append(nn.Linear(H, num_classes))\n",
        "      self.fc_out= nn.Linear(num_classes, num_classes)\n",
        "    else:\n",
        "      layers.append(nn.Linear(H, H))\n",
        "      self.fc_out = nn.Linear(H, num_classes)\n",
        "    \n",
        "    bns.append(nn.BatchNorm1d(H))\n",
        "\n",
        "    self.fcs = nn.ModuleList(layers)\n",
        "    self.bns = nn.ModuleList(bns)\n",
        "\n",
        "    if simplex:\n",
        "      weight = torch.sqrt(torch.tensor(num_classes/(num_classes-1)))*(torch.eye(num_classes)-(1/num_classes)*torch.ones((num_classes, num_classes)))\n",
        "      weight /= torch.sqrt((1/num_classes*torch.norm(weight, 'fro')**2))\n",
        "      if fixdim:\n",
        "        self.fc_out.weight = nn.Parameter(weight)\n",
        "      else:\n",
        "        self.fc_out.weight = nn.Parameter(torch.mm(weight, torch.eye(num_classes, H)))\n",
        "      self.fc_out.weight.requires_grad_(False)\n",
        "    \n",
        "  def forward(self, X):\n",
        "    ret = {}\n",
        "    h = X\n",
        "    for i in range(len(self.fcs)):\n",
        "      h = self.fcs[i](h)\n",
        "      ret[str(i+1)] = h\n",
        "      count += 1\n",
        "      h = self.relu(self.bns[i](h))\n",
        "    h = self.fc_out(h)\n",
        "    ret['final'] = h\n",
        "    return ret, len(self.fcs)"
      ]
    },
    {
      "cell_type": "markdown",
      "metadata": {
        "id": "tOTAL-s6llbo"
      },
      "source": [
        "CONV-L-H"
      ]
    },
    {
      "cell_type": "code",
      "execution_count": 22,
      "metadata": {
        "id": "u19V9Ehillbo"
      },
      "outputs": [],
      "source": [
        "class CONV(nn.Module):\n",
        "  def __init__(self, L, H, simplex):\n",
        "    super().__init__()\n",
        "    \n",
        "    self.relu = nn.ReLU()\n",
        "\n",
        "    starting_layers =  [nn.Conv2d(3, H, kernel_size=2, stride=2), nn.Conv2d(H, H, kernel_size=2, stride=2)]\n",
        "    starting_bns = [nn.BatchNorm2d(H), nn.BatchNorm2d(H)]\n",
        "\n",
        "    self.conv_in = nn.ModuleList(starting_layers)\n",
        "    self.bn_in = nn.ModuleList(starting_bns)\n",
        "\n",
        "    layers = []\n",
        "    bns = []\n",
        "\n",
        "    num_classes = 10\n",
        "\n",
        "    for i in range(L):\n",
        "      layers.append(nn.Conv2d(H, H, kernel_size=3, stride=1, padding=1))\n",
        "      bns.append(nn.BatchNorm2d(H))\n",
        "        \n",
        "    self.fc_out = nn.Linear(64*H, num_classes)\n",
        "    self.classify = nn.Linear(num_classes, num_classes)\n",
        "\n",
        "    self.convs = nn.ModuleList(layers)\n",
        "    self.bns = nn.ModuleList(bns)\n",
        "\n",
        "    if simplex:\n",
        "      weight = torch.sqrt(torch.tensor(num_classes/(num_classes-1)))*(torch.eye(num_classes)-(1/num_classes)*torch.ones((num_classes, num_classes)))\n",
        "      weight /= torch.sqrt((1/num_classes*torch.norm(weight, 'fro')**2))\n",
        "      self.classify.weight = nn.Parameter(weight)\n",
        "      self.classify.weight.requires_grad_(False)\n",
        "    \n",
        "  def forward(self, X):\n",
        "    h = X\n",
        "    for layer, bn in zip(self.conv_in, self.bn_in):\n",
        "      h = bn(layer(h))\n",
        "    h = self.relu(h)\n",
        "\n",
        "    for i in range(len(self.convs)):\n",
        "      h = self.convs[i](h)\n",
        "      h = self.relu(self.bns[i](h))\n",
        "    h = h.reshape(X.shape[0], -1)\n",
        "    h = self.fc_out(h)\n",
        "    h = self.classify(h)\n",
        "    return h, torch.argmax(h, dim=1)\n",
        "\n",
        "  def get_layer_info(self, X):\n",
        "    ret = {}\n",
        "    h = X\n",
        "    for layer, bn in zip(self.conv_in, self.bn_in):\n",
        "      h = bn(layer(h))\n",
        "    h = self.relu(h)\n",
        "    for i in range(len(self.convs)):\n",
        "      h = self.convs[i](h)\n",
        "      ret[str(i+1)] = h\n",
        "      h = self.relu(self.bns[i](h))\n",
        "    h = h.reshape(X.shape[0], -1)\n",
        "    h = self.fc_out(h)\n",
        "    ret['final'] = h\n",
        "    return ret"
      ]
    },
    {
      "cell_type": "markdown",
      "source": [
        "# Evaluations"
      ],
      "metadata": {
        "id": "c85Wj-a5IL-_"
      }
    },
    {
      "cell_type": "code",
      "source": [
        "from sklearn.neighbors import NearestCentroid\n",
        "import numpy as np\n",
        "import math"
      ],
      "metadata": {
        "id": "g6_eTZiG2NoS"
      },
      "execution_count": 51,
      "outputs": []
    },
    {
      "cell_type": "markdown",
      "source": [
        "Evaluations"
      ],
      "metadata": {
        "id": "55H_bnggnkdD"
      }
    },
    {
      "cell_type": "code",
      "source": [
        "# NCC accuracy\n",
        "def ncc_accuracy(features, classes):\n",
        "  clf = NearestCentroid()\n",
        "  clf.fit(features, classes)\n",
        "  preds = np.array([clf.predict(features)]).T\n",
        "  preds = preds.squeeze()\n",
        "  assert preds.shape == classes.shape\n",
        "  return np.sum(preds == classes) / preds.shape[0]\n",
        "\n",
        "# class distance normalized variance:\n",
        "# (Var(Q1) + Var(Q2)) / (2 ||mu(Q1) - mu(Q2)||^2)\n",
        "# average over all pairs of nonequal classes\n",
        "def var(Q):\n",
        "  mu = np.mean(Q, axis=0)\n",
        "  return np.mean(np.linalg.norm(Q - mu, axis=0)**2)\n",
        "\n",
        "def cdnv(Q1, Q2):\n",
        "  print('beep')\n",
        "  print(var(Q1))\n",
        "  assert not math.isnan(var(Q1))\n",
        "  print(var(Q2))\n",
        "  assert not math.isnan(var(Q2))\n",
        "  print(2*np.linalg.norm(np.mean(Q1, axis=0) - np.mean(Q2, axis=0))**2)\n",
        "  assert not math.isnan(2*np.linalg.norm(np.mean(Q1, axis=0) - np.mean(Q2, axis=0))**2)\n",
        "  return (var(Q1) + var(Q2)) / (2*np.linalg.norm(np.mean(Q1, axis=0) - np.mean(Q2, axis=0))**2)\n",
        "\n",
        "def cdnv_tot(features, classes):\n",
        "  cdnvs = []\n",
        "  for c1 in range(1,11):\n",
        "    for c2 in range(c1+1, 11):\n",
        "      Q1 = features[np.where(classes==c1)[0], :]\n",
        "      Q2 = features[np.where(classes==c2)[0], :]\n",
        "      if Q1.shape[0] == 0 or Q2.shape[0] == 0:\n",
        "        continue\n",
        "      cdnvs.append(cdnv(Q1, Q2))\n",
        "  return sum(cdnvs)/len(cdnvs)\n",
        "  \n",
        "def get_evaluations(outs_layers, labels):\n",
        "  cols = []\n",
        "  vals = []\n",
        "  labels = labels.detach().cpu().numpy()\n",
        "  for layer in outs_layers:\n",
        "    cols.append(f'acc_{layer}')\n",
        "    features = outs_layers[layer].detach().cpu().numpy()\n",
        "    features = features.reshape(features.shape[0], -1)\n",
        "    vals.append(ncc_accuracy(features, labels))\n",
        "    #cols.append(f'cdnv_{layer}')\n",
        "    #vals.append(cdnv_tot(features, labels))\n",
        "  return cols, vals"
      ],
      "metadata": {
        "id": "R_3L_O4gILo3"
      },
      "execution_count": 67,
      "outputs": []
    },
    {
      "cell_type": "markdown",
      "source": [
        "# Training code"
      ],
      "metadata": {
        "id": "BVbR4WCD1ook"
      }
    },
    {
      "cell_type": "code",
      "source": [
        "from tqdm import tqdm\n",
        "from pathlib import Path\n",
        "import copy\n",
        "import pandas as pd\n",
        "import os"
      ],
      "metadata": {
        "id": "9NR7-9Ga2Pkg"
      },
      "execution_count": 15,
      "outputs": []
    },
    {
      "cell_type": "code",
      "execution_count": 28,
      "metadata": {
        "id": "pFJ3DpQTllbp"
      },
      "outputs": [],
      "source": [
        "def train(model, device, optimizer, scheduler, criterion, dataloaders, savedir, num_epochs, save_interval):\n",
        "  best_loss = np.inf\n",
        "  losses = []\n",
        "  model.to(device)\n",
        "  for epoch in range(num_epochs):\n",
        "    for phase in ['train', 'val']:\n",
        "      if phase == 'train':\n",
        "        model.train()\n",
        "      else:\n",
        "        model.eval()\n",
        "\n",
        "      running_loss = 0.0\n",
        "      running_acc = 0.0\n",
        "      num_preds = 0\n",
        "      bar = tqdm(dataloaders[phase], desc='Epoch {} {}'.format(epoch, phase).ljust(20))\n",
        "\n",
        "      for i, batch in enumerate(bar):\n",
        "        X, y = batch\n",
        "        X, y = X.to(device), y.to(device)\n",
        "\n",
        "        optimizer.zero_grad()\n",
        "\n",
        "        with torch.set_grad_enabled(phase == 'train'):\n",
        "          outs, preds = model(X)\n",
        "          loss = criterion(outs, y)\n",
        "          acc = torch.sum(preds == y) / preds.shape[0]\n",
        "          if phase == 'train':\n",
        "            loss.backward()\n",
        "            optimizer.step()\n",
        "\n",
        "      scheduler.step()\n",
        "      running_loss += loss.item()\n",
        "      running_acc += acc.item()\n",
        "      num_preds += 128\n",
        "      if i % 10 == 0:\n",
        "        bar.set_postfix(loss='{:.2f}'.format(running_loss / num_preds))\n",
        "\n",
        "      epoch_loss = running_loss / num_preds\n",
        "      epoch_acc = running_acc / num_preds\n",
        "      # deep copy the model\n",
        "      if phase == 'val':\n",
        "        if epoch_loss < best_loss:\n",
        "          best_loss = epoch_loss\n",
        "          best_model_wts = copy.deepcopy(model.state_dict())\n",
        "      outs_layers = model.get_layer_info(X)\n",
        "      cols, vals = get_evaluations(outs_layers, y)\n",
        "      df = pd.DataFrame(columns=['epoch', 'phase', 'final_acc']+cols)\n",
        "      df.loc[0] = [epoch, phase, epoch_acc] + vals\n",
        "      losses.append(df)\n",
        "      if (epoch + 1) % save_interval == 0:\n",
        "        checkpoint = { \n",
        "            'epoch': epoch,\n",
        "            'model': model.state_dict(),\n",
        "            'optimizer': optimizer.state_dict(),\n",
        "            'lr_sched': scheduler}\n",
        "        Path(os.path.join(savedir, f'checkpoint_epoch_{epoch+1}.pth')).parent.mkdir(parents=True, exist_ok=True)\n",
        "        torch.save(checkpoint, os.path.join(os.path.join(savedir, f'checkpoint_epoch_{epoch+1}.pth')))\n",
        "        losses_int = pd.concat(losses, axis=0, ignore_index=True)\n",
        "        losses_int.to_csv(os.path.join(savedir, f'losses_epoch_{epoch+1}.csv'), index=False)\n",
        "\n",
        "  model.load_state_dict(best_model_wts)\n",
        "  model.eval()\n",
        "\n",
        "  # Save model weights\n",
        "  Path(os.path.join(savedir, 'model.pth')).parent.mkdir(parents=True, exist_ok=True)\n",
        "  torch.save(model.state_dict(), os.path.join(savedir, 'model.pth'))\n",
        "\n",
        "  losses = pd.concat(losses, axis=0, ignore_index=True)\n",
        "  losses.to_csv(os.path.join(savedir, 'losses.csv'), index=False)\n",
        "\n",
        "  return model"
      ]
    },
    {
      "cell_type": "markdown",
      "source": [
        "# Set up model parameters"
      ],
      "metadata": {
        "id": "lJUpod_-Wo6I"
      }
    },
    {
      "cell_type": "code",
      "source": [
        "n_layers = 8\n",
        "etf = True\n",
        "model = CONV(n_layers, 400, etf)\n",
        "device = torch.device(\"cuda:0\")\n",
        "optimizer = torch.optim.SGD(model.parameters(), lr=0.1, momentum=0.9)\n",
        "scheduler = torch.optim.lr_scheduler.MultiStepLR(optimizer, milestones=[60, 120, 160], gamma=0.1)\n",
        "criterion = torch.nn.CrossEntropyLoss()\n",
        "savedir = './trial0'\n",
        "dataloaders = {\n",
        "    'train': trainloader_10,\n",
        "    'val': valloader_10\n",
        "}\n",
        "save_interval = 1\n",
        "num_epochs = 1\n",
        "\n",
        "train(model, device, optimizer, scheduler, criterion, dataloaders, savedir, num_epochs, save_interval)"
      ],
      "metadata": {
        "colab": {
          "base_uri": "https://localhost:8080/"
        },
        "id": "G0YBeFTVWoi6",
        "outputId": "cb2e37fb-26c6-4e1f-8edd-25056dc54afe"
      },
      "execution_count": 68,
      "outputs": [
        {
          "output_type": "stream",
          "name": "stderr",
          "text": [
            "Epoch 0 train       : 100%|██████████| 391/391 [00:44<00:00,  8.71it/s]\n",
            "Epoch 0 val         : 100%|██████████| 79/79 [00:06<00:00, 13.15it/s]\n"
          ]
        },
        {
          "output_type": "execute_result",
          "data": {
            "text/plain": [
              "CONV(\n",
              "  (relu): ReLU()\n",
              "  (conv_in): ModuleList(\n",
              "    (0): Conv2d(3, 400, kernel_size=(2, 2), stride=(2, 2))\n",
              "    (1): Conv2d(400, 400, kernel_size=(2, 2), stride=(2, 2))\n",
              "  )\n",
              "  (bn_in): ModuleList(\n",
              "    (0): BatchNorm2d(400, eps=1e-05, momentum=0.1, affine=True, track_running_stats=True)\n",
              "    (1): BatchNorm2d(400, eps=1e-05, momentum=0.1, affine=True, track_running_stats=True)\n",
              "  )\n",
              "  (fc_out): Linear(in_features=25600, out_features=10, bias=True)\n",
              "  (classify): Linear(in_features=10, out_features=10, bias=True)\n",
              "  (convs): ModuleList(\n",
              "    (0): Conv2d(400, 400, kernel_size=(3, 3), stride=(1, 1), padding=(1, 1))\n",
              "    (1): Conv2d(400, 400, kernel_size=(3, 3), stride=(1, 1), padding=(1, 1))\n",
              "    (2): Conv2d(400, 400, kernel_size=(3, 3), stride=(1, 1), padding=(1, 1))\n",
              "    (3): Conv2d(400, 400, kernel_size=(3, 3), stride=(1, 1), padding=(1, 1))\n",
              "    (4): Conv2d(400, 400, kernel_size=(3, 3), stride=(1, 1), padding=(1, 1))\n",
              "    (5): Conv2d(400, 400, kernel_size=(3, 3), stride=(1, 1), padding=(1, 1))\n",
              "    (6): Conv2d(400, 400, kernel_size=(3, 3), stride=(1, 1), padding=(1, 1))\n",
              "    (7): Conv2d(400, 400, kernel_size=(3, 3), stride=(1, 1), padding=(1, 1))\n",
              "  )\n",
              "  (bns): ModuleList(\n",
              "    (0): BatchNorm2d(400, eps=1e-05, momentum=0.1, affine=True, track_running_stats=True)\n",
              "    (1): BatchNorm2d(400, eps=1e-05, momentum=0.1, affine=True, track_running_stats=True)\n",
              "    (2): BatchNorm2d(400, eps=1e-05, momentum=0.1, affine=True, track_running_stats=True)\n",
              "    (3): BatchNorm2d(400, eps=1e-05, momentum=0.1, affine=True, track_running_stats=True)\n",
              "    (4): BatchNorm2d(400, eps=1e-05, momentum=0.1, affine=True, track_running_stats=True)\n",
              "    (5): BatchNorm2d(400, eps=1e-05, momentum=0.1, affine=True, track_running_stats=True)\n",
              "    (6): BatchNorm2d(400, eps=1e-05, momentum=0.1, affine=True, track_running_stats=True)\n",
              "    (7): BatchNorm2d(400, eps=1e-05, momentum=0.1, affine=True, track_running_stats=True)\n",
              "  )\n",
              ")"
            ]
          },
          "metadata": {},
          "execution_count": 68
        }
      ]
    },
    {
      "cell_type": "code",
      "source": [],
      "metadata": {
        "id": "SYcQehCi32_4"
      },
      "execution_count": null,
      "outputs": []
    }
  ],
  "metadata": {
    "kernelspec": {
      "display_name": "Python 3.9.7 ('base')",
      "language": "python",
      "name": "python3"
    },
    "language_info": {
      "codemirror_mode": {
        "name": "ipython",
        "version": 3
      },
      "file_extension": ".py",
      "mimetype": "text/x-python",
      "name": "python",
      "nbconvert_exporter": "python",
      "pygments_lexer": "ipython3",
      "version": "3.9.7"
    },
    "orig_nbformat": 4,
    "vscode": {
      "interpreter": {
        "hash": "846d7c97c30a6049968d1d1a6818eafdf2eb941006d2719374ee3821acbef096"
      }
    },
    "colab": {
      "provenance": []
    },
    "accelerator": "GPU",
    "gpuClass": "standard",
    "widgets": {
      "application/vnd.jupyter.widget-state+json": {
        "414b9a43152044948f650cc2b371c7e6": {
          "model_module": "@jupyter-widgets/controls",
          "model_name": "HBoxModel",
          "model_module_version": "1.5.0",
          "state": {
            "_dom_classes": [],
            "_model_module": "@jupyter-widgets/controls",
            "_model_module_version": "1.5.0",
            "_model_name": "HBoxModel",
            "_view_count": null,
            "_view_module": "@jupyter-widgets/controls",
            "_view_module_version": "1.5.0",
            "_view_name": "HBoxView",
            "box_style": "",
            "children": [
              "IPY_MODEL_d5f4a607d6b44b6d8bc5aa4e66f37659",
              "IPY_MODEL_efc621bcb5524359bbc8f6403cdede21",
              "IPY_MODEL_97fb784b50c9463eb532352fe1247944"
            ],
            "layout": "IPY_MODEL_7b8afc3e72d64355985d52882ea9b248"
          }
        },
        "d5f4a607d6b44b6d8bc5aa4e66f37659": {
          "model_module": "@jupyter-widgets/controls",
          "model_name": "HTMLModel",
          "model_module_version": "1.5.0",
          "state": {
            "_dom_classes": [],
            "_model_module": "@jupyter-widgets/controls",
            "_model_module_version": "1.5.0",
            "_model_name": "HTMLModel",
            "_view_count": null,
            "_view_module": "@jupyter-widgets/controls",
            "_view_module_version": "1.5.0",
            "_view_name": "HTMLView",
            "description": "",
            "description_tooltip": null,
            "layout": "IPY_MODEL_f0a167e433474fc8a3f953065ff65a87",
            "placeholder": "​",
            "style": "IPY_MODEL_cd689cc190734c29ab87bcc7668cf276",
            "value": "100%"
          }
        },
        "efc621bcb5524359bbc8f6403cdede21": {
          "model_module": "@jupyter-widgets/controls",
          "model_name": "FloatProgressModel",
          "model_module_version": "1.5.0",
          "state": {
            "_dom_classes": [],
            "_model_module": "@jupyter-widgets/controls",
            "_model_module_version": "1.5.0",
            "_model_name": "FloatProgressModel",
            "_view_count": null,
            "_view_module": "@jupyter-widgets/controls",
            "_view_module_version": "1.5.0",
            "_view_name": "ProgressView",
            "bar_style": "success",
            "description": "",
            "description_tooltip": null,
            "layout": "IPY_MODEL_40b3be39dac743ad996c64db23de73c4",
            "max": 170498071,
            "min": 0,
            "orientation": "horizontal",
            "style": "IPY_MODEL_e36e24dd12ed470d8f925dd6981195cd",
            "value": 170498071
          }
        },
        "97fb784b50c9463eb532352fe1247944": {
          "model_module": "@jupyter-widgets/controls",
          "model_name": "HTMLModel",
          "model_module_version": "1.5.0",
          "state": {
            "_dom_classes": [],
            "_model_module": "@jupyter-widgets/controls",
            "_model_module_version": "1.5.0",
            "_model_name": "HTMLModel",
            "_view_count": null,
            "_view_module": "@jupyter-widgets/controls",
            "_view_module_version": "1.5.0",
            "_view_name": "HTMLView",
            "description": "",
            "description_tooltip": null,
            "layout": "IPY_MODEL_8813e771cb554040b7bcb86c09936c05",
            "placeholder": "​",
            "style": "IPY_MODEL_4e55aafd27f44f57a9d35eb1d2566748",
            "value": " 170498071/170498071 [00:50&lt;00:00, 12732434.72it/s]"
          }
        },
        "7b8afc3e72d64355985d52882ea9b248": {
          "model_module": "@jupyter-widgets/base",
          "model_name": "LayoutModel",
          "model_module_version": "1.2.0",
          "state": {
            "_model_module": "@jupyter-widgets/base",
            "_model_module_version": "1.2.0",
            "_model_name": "LayoutModel",
            "_view_count": null,
            "_view_module": "@jupyter-widgets/base",
            "_view_module_version": "1.2.0",
            "_view_name": "LayoutView",
            "align_content": null,
            "align_items": null,
            "align_self": null,
            "border": null,
            "bottom": null,
            "display": null,
            "flex": null,
            "flex_flow": null,
            "grid_area": null,
            "grid_auto_columns": null,
            "grid_auto_flow": null,
            "grid_auto_rows": null,
            "grid_column": null,
            "grid_gap": null,
            "grid_row": null,
            "grid_template_areas": null,
            "grid_template_columns": null,
            "grid_template_rows": null,
            "height": null,
            "justify_content": null,
            "justify_items": null,
            "left": null,
            "margin": null,
            "max_height": null,
            "max_width": null,
            "min_height": null,
            "min_width": null,
            "object_fit": null,
            "object_position": null,
            "order": null,
            "overflow": null,
            "overflow_x": null,
            "overflow_y": null,
            "padding": null,
            "right": null,
            "top": null,
            "visibility": null,
            "width": null
          }
        },
        "f0a167e433474fc8a3f953065ff65a87": {
          "model_module": "@jupyter-widgets/base",
          "model_name": "LayoutModel",
          "model_module_version": "1.2.0",
          "state": {
            "_model_module": "@jupyter-widgets/base",
            "_model_module_version": "1.2.0",
            "_model_name": "LayoutModel",
            "_view_count": null,
            "_view_module": "@jupyter-widgets/base",
            "_view_module_version": "1.2.0",
            "_view_name": "LayoutView",
            "align_content": null,
            "align_items": null,
            "align_self": null,
            "border": null,
            "bottom": null,
            "display": null,
            "flex": null,
            "flex_flow": null,
            "grid_area": null,
            "grid_auto_columns": null,
            "grid_auto_flow": null,
            "grid_auto_rows": null,
            "grid_column": null,
            "grid_gap": null,
            "grid_row": null,
            "grid_template_areas": null,
            "grid_template_columns": null,
            "grid_template_rows": null,
            "height": null,
            "justify_content": null,
            "justify_items": null,
            "left": null,
            "margin": null,
            "max_height": null,
            "max_width": null,
            "min_height": null,
            "min_width": null,
            "object_fit": null,
            "object_position": null,
            "order": null,
            "overflow": null,
            "overflow_x": null,
            "overflow_y": null,
            "padding": null,
            "right": null,
            "top": null,
            "visibility": null,
            "width": null
          }
        },
        "cd689cc190734c29ab87bcc7668cf276": {
          "model_module": "@jupyter-widgets/controls",
          "model_name": "DescriptionStyleModel",
          "model_module_version": "1.5.0",
          "state": {
            "_model_module": "@jupyter-widgets/controls",
            "_model_module_version": "1.5.0",
            "_model_name": "DescriptionStyleModel",
            "_view_count": null,
            "_view_module": "@jupyter-widgets/base",
            "_view_module_version": "1.2.0",
            "_view_name": "StyleView",
            "description_width": ""
          }
        },
        "40b3be39dac743ad996c64db23de73c4": {
          "model_module": "@jupyter-widgets/base",
          "model_name": "LayoutModel",
          "model_module_version": "1.2.0",
          "state": {
            "_model_module": "@jupyter-widgets/base",
            "_model_module_version": "1.2.0",
            "_model_name": "LayoutModel",
            "_view_count": null,
            "_view_module": "@jupyter-widgets/base",
            "_view_module_version": "1.2.0",
            "_view_name": "LayoutView",
            "align_content": null,
            "align_items": null,
            "align_self": null,
            "border": null,
            "bottom": null,
            "display": null,
            "flex": null,
            "flex_flow": null,
            "grid_area": null,
            "grid_auto_columns": null,
            "grid_auto_flow": null,
            "grid_auto_rows": null,
            "grid_column": null,
            "grid_gap": null,
            "grid_row": null,
            "grid_template_areas": null,
            "grid_template_columns": null,
            "grid_template_rows": null,
            "height": null,
            "justify_content": null,
            "justify_items": null,
            "left": null,
            "margin": null,
            "max_height": null,
            "max_width": null,
            "min_height": null,
            "min_width": null,
            "object_fit": null,
            "object_position": null,
            "order": null,
            "overflow": null,
            "overflow_x": null,
            "overflow_y": null,
            "padding": null,
            "right": null,
            "top": null,
            "visibility": null,
            "width": null
          }
        },
        "e36e24dd12ed470d8f925dd6981195cd": {
          "model_module": "@jupyter-widgets/controls",
          "model_name": "ProgressStyleModel",
          "model_module_version": "1.5.0",
          "state": {
            "_model_module": "@jupyter-widgets/controls",
            "_model_module_version": "1.5.0",
            "_model_name": "ProgressStyleModel",
            "_view_count": null,
            "_view_module": "@jupyter-widgets/base",
            "_view_module_version": "1.2.0",
            "_view_name": "StyleView",
            "bar_color": null,
            "description_width": ""
          }
        },
        "8813e771cb554040b7bcb86c09936c05": {
          "model_module": "@jupyter-widgets/base",
          "model_name": "LayoutModel",
          "model_module_version": "1.2.0",
          "state": {
            "_model_module": "@jupyter-widgets/base",
            "_model_module_version": "1.2.0",
            "_model_name": "LayoutModel",
            "_view_count": null,
            "_view_module": "@jupyter-widgets/base",
            "_view_module_version": "1.2.0",
            "_view_name": "LayoutView",
            "align_content": null,
            "align_items": null,
            "align_self": null,
            "border": null,
            "bottom": null,
            "display": null,
            "flex": null,
            "flex_flow": null,
            "grid_area": null,
            "grid_auto_columns": null,
            "grid_auto_flow": null,
            "grid_auto_rows": null,
            "grid_column": null,
            "grid_gap": null,
            "grid_row": null,
            "grid_template_areas": null,
            "grid_template_columns": null,
            "grid_template_rows": null,
            "height": null,
            "justify_content": null,
            "justify_items": null,
            "left": null,
            "margin": null,
            "max_height": null,
            "max_width": null,
            "min_height": null,
            "min_width": null,
            "object_fit": null,
            "object_position": null,
            "order": null,
            "overflow": null,
            "overflow_x": null,
            "overflow_y": null,
            "padding": null,
            "right": null,
            "top": null,
            "visibility": null,
            "width": null
          }
        },
        "4e55aafd27f44f57a9d35eb1d2566748": {
          "model_module": "@jupyter-widgets/controls",
          "model_name": "DescriptionStyleModel",
          "model_module_version": "1.5.0",
          "state": {
            "_model_module": "@jupyter-widgets/controls",
            "_model_module_version": "1.5.0",
            "_model_name": "DescriptionStyleModel",
            "_view_count": null,
            "_view_module": "@jupyter-widgets/base",
            "_view_module_version": "1.2.0",
            "_view_name": "StyleView",
            "description_width": ""
          }
        }
      }
    }
  },
  "nbformat": 4,
  "nbformat_minor": 0
}