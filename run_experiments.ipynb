{
  "cells": [
    {
      "cell_type": "code",
      "execution_count": null,
      "metadata": {
        "id": "eRfiDNPRllbi"
      },
      "outputs": [],
      "source": [
        "import torch\n",
        "import torchvision\n",
        "import torchvision.transforms as transforms"
      ]
    },
    {
      "cell_type": "markdown",
      "metadata": {
        "id": "-J7K2hZVllbj"
      },
      "source": [
        "# Datasets"
      ]
    },
    {
      "cell_type": "code",
      "execution_count": null,
      "metadata": {
        "id": "DmwbIAg6llbl"
      },
      "outputs": [],
      "source": [
        "# For CIFAR10 we used random cropping, random horizontal flips, and random rotations (by 15k degrees for k uniformly sampled from [24]). All datasets were standardized\n",
        "\n",
        "\n",
        "transform = transforms.Compose(\n",
        "    [transforms.ToTensor(),\n",
        "     transforms.RandomCrop(224),\n",
        "     transforms.RandomHorizontalFlip(p=0.5),\n",
        "     transforms.RandomRotation(180),\n",
        "     transforms.Normalize((0.5, 0.5, 0.5), (0.5, 0.5, 0.5))])\n",
        "batch_size = 128"
      ]
    },
    {
      "cell_type": "markdown",
      "metadata": {
        "id": "-OsD96Uwllbl"
      },
      "source": [
        "#### CIFAR-10"
      ]
    },
    {
      "cell_type": "code",
      "execution_count": null,
      "metadata": {
        "id": "SZQyQWABllbl",
        "outputId": "493778ac-fbba-4fe8-ff08-2b78074c82b3"
      },
      "outputs": [
        {
          "name": "stdout",
          "output_type": "stream",
          "text": [
            "Files already downloaded and verified\n",
            "Files already downloaded and verified\n"
          ]
        }
      ],
      "source": [
        "trainset_10 = torchvision.datasets.CIFAR10(root='./data', train=True,\n",
        "                                        download=True, transform=transform)\n",
        "trainloader_10 = torch.utils.data.DataLoader(trainset_10, batch_size=batch_size,\n",
        "                                          shuffle=True, num_workers=2)\n",
        "\n",
        "valset_10 = torchvision.datasets.CIFAR10(root='./data', train=False,\n",
        "                                       download=True, transform=transform)\n",
        "valloader_10 = torch.utils.data.DataLoader(testset_10, batch_size=batch_size,\n",
        "                                         shuffle=False, num_workers=2)"
      ]
    },
    {
      "cell_type": "markdown",
      "metadata": {
        "id": "6byZ10o-llbn"
      },
      "source": [
        "# Models"
      ]
    },
    {
      "cell_type": "markdown",
      "metadata": {
        "id": "vu0xYQ3Yllbn"
      },
      "source": [
        "MLP-L-H"
      ]
    },
    {
      "cell_type": "code",
      "execution_count": null,
      "metadata": {
        "id": "_zsX9XUzllbo"
      },
      "outputs": [],
      "source": [
        "class MLP(nn.Module):\n",
        "  def __init__(self, L, H, fixdim, simplex):\n",
        "    super().__init__()\n",
        "    \n",
        "    self.relu = nn.ReLU()\n",
        "\n",
        "    layers = [nn.Linear(3072, H)]\n",
        "    bns = [nn.BatchNorm1d(H)]\n",
        "\n",
        "    num_classes = 10\n",
        "\n",
        "    for i in range(L-2):\n",
        "      layers.append(nn.Linear(H, H))\n",
        "      bns.append(nn.BatchNorm1d(H))\n",
        "        \n",
        "    if fixdim:\n",
        "      layers.append(nn.Linear(H, num_classes))\n",
        "      self.fc_out= nn.Linear(num_classes, num_classes)\n",
        "    else:\n",
        "      layers.append(nn.Linear(H, H))\n",
        "      self.fc_out = nn.Linear(H, num_classes)\n",
        "    \n",
        "    bns.append(nn.BatchNorm1d(H))\n",
        "\n",
        "    self.fcs = nn.ModuleList(layers)\n",
        "    self.bns = nn.ModuleList(bns)\n",
        "\n",
        "    if simplex:\n",
        "      weight = torch.sqrt(torch.tensor(num_classes/(num_classes-1)))*(torch.eye(num_classes)-(1/num_classes)*torch.ones((num_classes, num_classes)))\n",
        "      weight /= torch.sqrt((1/num_classes*torch.norm(weight, 'fro')**2))\n",
        "      if fixdim:\n",
        "        self.fc_out.weight = nn.Parameter(weight)\n",
        "      else:\n",
        "        self.fc_out.weight = nn.Parameter(torch.mm(weight, torch.eye(num_classes, H)))\n",
        "      self.fc_out.weight.requires_grad_(False)\n",
        "    \n",
        "  def forward(self, X):\n",
        "    ret = {}\n",
        "    h = X\n",
        "    for i in range(len(self.fcs)):\n",
        "      h = self.fcs[i](h)\n",
        "      ret[str(i+1)] = h\n",
        "      count += 1\n",
        "      h = self.relu(self.bns[i](h))\n",
        "    h = self.fc_out(h)\n",
        "    ret['final'] = h\n",
        "    return ret, len(self.fcs)"
      ]
    },
    {
      "cell_type": "markdown",
      "metadata": {
        "id": "tOTAL-s6llbo"
      },
      "source": [
        "CONV-L-H"
      ]
    },
    {
      "cell_type": "code",
      "execution_count": null,
      "metadata": {
        "id": "u19V9Ehillbo"
      },
      "outputs": [],
      "source": [
        "class CONV(nn.Module):\n",
        "  def __init__(self, L, H, simplex):\n",
        "    super().__init__()\n",
        "    \n",
        "    self.relu = nn.ReLU()\n",
        "\n",
        "    starting_layers =  [nn.Conv2d(1, H, kernel_size=2, stride=2), nn.Conv2d(1, H, kernel_size=2, stride=2)]\n",
        "    starting_bns = [nn.BatchNorm2d(H), nn.BatchNorm2d(H)]\n",
        "\n",
        "    self.conv_in = nn.ModuleList(starting_layers)\n",
        "    self.bn_in = nn.ModuleList(starting_bns)\n",
        "\n",
        "    layers = []\n",
        "    bns = []\n",
        "\n",
        "    num_classes = 10\n",
        "\n",
        "    for i in range(L):\n",
        "      layers.append(nn.Conv2d(H, H, kernel_size=3, stride=1, padding=1))\n",
        "      bns.append(nn.BatchNorm2d(H))\n",
        "        \n",
        "    self.fc_out = nn.Linear(64*H, num_classes)\n",
        "    self.classify = nn.Linear(num_classes, num_classes)\n",
        "\n",
        "    self.convs = nn.ModuleList(layers)\n",
        "    self.bns = nn.ModuleList(bns)\n",
        "\n",
        "    if simplex:\n",
        "      weight = torch.sqrt(torch.tensor(num_classes/(num_classes-1)))*(torch.eye(num_classes)-(1/num_classes)*torch.ones((num_classes, num_classes)))\n",
        "      weight /= torch.sqrt((1/num_classes*torch.norm(weight, 'fro')**2))\n",
        "      self.fc_out.weight = nn.Parameter(weight)\n",
        "      self.fc_out.weight.requires_grad_(False)\n",
        "    \n",
        "    def forward(self, X):\n",
        "      h = X\n",
        "      for layer, bn in zip(self.conv_in, self.bn_in):\n",
        "        h = bn(layer(h))\n",
        "      h = self.relu(h)\n",
        "\n",
        "      for i in range(len(self.convs):\n",
        "        h = self.convs[i](h)\n",
        "        h = self.relu(self.bns[i](h))\n",
        "      h = self.fc_out(h)\n",
        "      h = self.classify(h)\n",
        "      return h, np.argmax(h, axis=1)\n",
        "\n",
        "    def get_layer_info(self, X):\n",
        "      ret = {}\n",
        "      h = X\n",
        "      for layer, bn in zip(self.conv_in, self.bn_in):\n",
        "        h = bn(layer(h))\n",
        "      h = self.relu(h)\n",
        "      for i in range(len(self.convs):\n",
        "        h = self.convs[i](h)\n",
        "        ret[str(i+1)] = h\n",
        "        h = self.relu(self.bns[i](h))\n",
        "      h = self.fc_out(h)\n",
        "      ret['final'] = h\n",
        "      return ret, len(self.convs)"
      ]
    },
    {
      "cell_type": "markdown",
      "source": [
        "# Evaluations"
      ],
      "metadata": {
        "id": "c85Wj-a5IL-_"
      }
    },
    {
      "cell_type": "code",
      "source": [
        "from sklearn.neighbors import NearestCentroid"
      ],
      "metadata": {
        "id": "g6_eTZiG2NoS"
      },
      "execution_count": null,
      "outputs": []
    },
    {
      "cell_type": "markdown",
      "source": [
        "eval utils"
      ],
      "metadata": {
        "id": "B5-bECgyniaZ"
      }
    },
    {
      "cell_type": "markdown",
      "source": [
        "Evaluations"
      ],
      "metadata": {
        "id": "55H_bnggnkdD"
      }
    },
    {
      "cell_type": "code",
      "source": [
        "# NCC accuracy\n",
        "def ncc_accuracy(features, classes):\n",
        "  clf = NearestCentroid()\n",
        "  clf.fit(featuers, classes)\n",
        "  preds = np.array([clf.predict(features)]).T\n",
        "  assert preds.shape == classes.shape\n",
        "  return np.sum(preds == classes) / preds.shape[0]\n",
        "\n",
        "# class distance normalized variance:\n",
        "# (Var(Q1) + Var(Q2)) / (2 ||mu(Q1) - mu(Q2)||^2)\n",
        "# average over all pairs of nonequal classes\n",
        "def cdnv(Q1, Q2):\n",
        "  return (np.var(Q1) + np.var(Q2)) / (2*np.linalg.norm(np.mean(Q1) - np.mean(Q2))**2)\n",
        "\n",
        "def cdnv_tot(features, classes):\n",
        "  pass\n",
        "  \n",
        "def get_evaluations(outs, labels, n_layers):\n",
        "  cols = []\n",
        "  vals = []\n",
        "  for layer in n_layers:\n",
        "    cols.append(f'acc_{layer}')\n",
        "    vals.append(ncc_acuracy(outs[str(layer)], labels))\n",
        "    cols.append(f'cdnv_{layer}')\n",
        "    vals.append(cdnv_tot(outs[str(layer)], labels))\n",
        "\n",
        "\n"
      ],
      "metadata": {
        "id": "R_3L_O4gILo3"
      },
      "execution_count": null,
      "outputs": []
    },
    {
      "cell_type": "markdown",
      "source": [
        "# Training code"
      ],
      "metadata": {
        "id": "BVbR4WCD1ook"
      }
    },
    {
      "cell_type": "code",
      "execution_count": null,
      "metadata": {
        "id": "pFJ3DpQTllbp"
      },
      "outputs": [],
      "source": [
        "def train(model, device, optimizer, scheduler, criterion, dataloaders, savedir, n_layers, num_epochs=300):\n",
        "  # Train baseline\n",
        "  best_loss = np.inf\n",
        "\n",
        "  losses = []\n",
        "\n",
        "  for epoch in range(num_epochs):\n",
        "      for phase in ['train', 'val']:\n",
        "          if phase == 'train':\n",
        "            model.train()\n",
        "          else:\n",
        "            model.eval()\n",
        "\n",
        "          running_loss = 0.0\n",
        "          num_preds = 0\n",
        "\n",
        "          bar = tqdm(dataloaders[phase], desc='Epoch {} {}'.format(epoch, phase).ljust(20))\n",
        "          for i, batch in enumerate(bar):\n",
        "            X, y = batch\n",
        "            X, y = X.to(device), y.to(device)\n",
        "\n",
        "            with torch.set_grad_enabled(phase == 'train'):\n",
        "              outs, preds = model(X)\n",
        "              loss = criterion(outs, y)\n",
        "              if phase == 'train':\n",
        "                loss.backward()\n",
        "                optimizer.step()\n",
        "\n",
        "          running_loss += loss.item()\n",
        "          num_preds += 128\n",
        "          if i % 10 == 0:\n",
        "            bar.set_postfix(loss='{:.2f}'.format(running_loss / num_preds))\n",
        "\n",
        "          epoch_loss = running_loss / num_preds\n",
        "          # deep copy the model\n",
        "          if phase == 'val':\n",
        "            if epoch_loss < best_loss:\n",
        "                best_loss = epoch_loss\n",
        "                best_model_wts = copy.deepcopy(model.state_dict())\n",
        "          cols, vals = get_evaluations(model, loader, n_layers)\n",
        "          df = pd.DataFrame(columns=['epoch', 'phase']+cols)\n",
        "          df.loc[0] = [epoch, phase] + vals\n",
        "          losses.append(df)\n",
        "\n",
        "    model.load_state_dict(best_model_wts)\n",
        "    model.eval()\n",
        "\n",
        "    # Save model weights\n",
        "    Path(os.path.join(savedir, 'model.pth')).parent.mkdir(parents=True, exist_ok=True)\n",
        "    torch.save(model.state_dict(), os.path.join(savedir, 'model.pth'))\n",
        "\n",
        "\n",
        "    losses = pd.concat(losses, axis=0, ignore_index=True)\n",
        "    losses.to_csv(os.path.join(savedir, 'losses.csv'), index=False)\n",
        "\n",
        "    return model"
      ]
    },
    {
      "cell_type": "markdown",
      "source": [
        "# Set up model parameters"
      ],
      "metadata": {
        "id": "lJUpod_-Wo6I"
      }
    },
    {
      "cell_type": "code",
      "source": [
        "n_layers = 5\n",
        "etf = False\n",
        "model = CONV(layers, 100, etf)\n",
        "device = torch.device(\"cuda:0\")\n",
        "optimizer = torch.optim.SGD(model.parameters(), lr=0.1, momentum=0.9)\n",
        "scheduler = torch.optim.lr_scheduler.MultiStepLR(optimizer, milestones=[60, 120, 160], gamma=0.1)\n",
        "criterion = torch.nn.CrossEntropyLoss()\n",
        "savedir = './hehe'\n",
        "dataloaders = {\n",
        "    'train': trainloader_10,\n",
        "    'val': valloader_10\n",
        "}\n",
        "\n",
        "\n",
        "train(model, device, optimizer, scheduler, criterion, dataloaders, savedir, n_layers, num_epochs=300)"
      ],
      "metadata": {
        "id": "G0YBeFTVWoi6"
      },
      "execution_count": null,
      "outputs": []
    }
  ],
  "metadata": {
    "kernelspec": {
      "display_name": "Python 3.9.7 ('base')",
      "language": "python",
      "name": "python3"
    },
    "language_info": {
      "codemirror_mode": {
        "name": "ipython",
        "version": 3
      },
      "file_extension": ".py",
      "mimetype": "text/x-python",
      "name": "python",
      "nbconvert_exporter": "python",
      "pygments_lexer": "ipython3",
      "version": "3.9.7"
    },
    "orig_nbformat": 4,
    "vscode": {
      "interpreter": {
        "hash": "846d7c97c30a6049968d1d1a6818eafdf2eb941006d2719374ee3821acbef096"
      }
    },
    "colab": {
      "provenance": []
    }
  },
  "nbformat": 4,
  "nbformat_minor": 0
}